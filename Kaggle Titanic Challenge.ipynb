{
 "cells": [
  {
   "cell_type": "code",
   "execution_count": 1,
   "id": "b58a1fc6",
   "metadata": {},
   "outputs": [],
   "source": [
    "from sklearn import datasets\n",
    "from sklearn import metrics\n",
    "from sklearn.ensemble import RandomForestClassifier\n",
    "from sklearn.linear_model import LogisticRegression"
   ]
  },
  {
   "cell_type": "code",
   "execution_count": 2,
   "id": "d0051d0a",
   "metadata": {},
   "outputs": [],
   "source": [
    "from scipy import stats\n",
    "import matplotlib as mpl\n",
    "import matplotlib.pyplot as plt\n",
    "import seaborn as sns\n",
    "%matplotlib inline\n",
    "\n",
    "import numpy as np\n",
    "import pandas as pd\n",
    "from pandas import Series, DataFrame\n",
    "\n",
    "#0-died\n",
    "#1-survived"
   ]
  },
  {
   "cell_type": "code",
   "execution_count": 3,
   "id": "8d2d1bfb",
   "metadata": {
    "scrolled": true
   },
   "outputs": [],
   "source": [
    "train = pd.read_csv('train.csv',sep=',')\n",
    "test = pd.read_csv('test.csv',sep=',')\n",
    "\n",
    "passenger_ids = test['PassengerId']"
   ]
  },
  {
   "cell_type": "code",
   "execution_count": 4,
   "id": "27ad87a7",
   "metadata": {
    "scrolled": true
   },
   "outputs": [],
   "source": [
    "#quick data visualization\n",
    "#sns.pairplot(data=train,hue='Survived',height=2,diag_kind = 'kde',diag_kws=dict(shade=True),plot_kws=dict(s=10))\n",
    "#plt.gcf().set_size_inches(15,12)"
   ]
  },
  {
   "cell_type": "code",
   "execution_count": 5,
   "id": "f919e636",
   "metadata": {},
   "outputs": [],
   "source": [
    "train_data = train.drop(['Survived'],axis=1)\n",
    "target = train['Survived']\n",
    "\n",
    "#FEATURE ENGINEERING\n",
    "\n",
    "def get_deck(cabin):\n",
    "    if(pd.isnull(cabin) or cabin[0] == 'T'):\n",
    "        return np.nan\n",
    "    else:\n",
    "        return cabin[0]\n",
    "\n",
    "def checkChild(age):\n",
    "    if(age <= 12):\n",
    "        return 'child'\n",
    "    elif(12 < age <= 17):\n",
    "        return 'teenager'\n",
    "    elif(age > 60):\n",
    "        return 'senior'\n",
    "    else:\n",
    "        return 'adult'\n",
    "\n",
    "def is_alone(passenger):\n",
    "    if(passenger['SibSp'] == 0 and passenger['Parch'] == 0):\n",
    "        return 1\n",
    "    return 0\n",
    "\n",
    "def get_prefix(name):\n",
    "    first_part = name.split(',')[1]\n",
    "    return first_part[1:].split(' ')[0][:-1]"
   ]
  },
  {
   "cell_type": "code",
   "execution_count": 6,
   "id": "18af9e16",
   "metadata": {
    "scrolled": false
   },
   "outputs": [],
   "source": [
    "sex_dict = {'male': 0, 'female': 1}\n",
    "embark_dict = {'C': 0, 'Q': 1, 'S': 2}\n",
    "age_dict = {'child': 0,'teenager': 1,'adult': 2, 'senior': 3}\n",
    "\n",
    "#A,B represent upper decks (i.e. first class cabins)\n",
    "#C,D,E are the mid decks\n",
    "#F,G,U are lower decks\n",
    "deck_dict = {'A':0,'B':0,'C':1,'D':1,'E':1,'F':2,'G':2,'U':2}\n",
    "\n",
    "prefix_dict = {\n",
    "    \"Mr\" :         \"Mr\",\n",
    "    \"Capt\":        \"Mr\",\n",
    "    \"Col\":         \"Mr\",\n",
    "    \"Major\":       \"Mr\",\n",
    "    \"Dr\":          \"Mr\",\n",
    "    \"Rev\":         \"Mr\",\n",
    "    \"Jonkheer\":    \"Mr\",\n",
    "    \"Don\":         \"Mr\",\n",
    "    \"Sir\" :        \"Mr\",\n",
    "    \"Mme\":         \"Mrs\",\n",
    "    \"Mrs\" :        \"Mrs\",\n",
    "    \"Countess\":    \"Mrs\",\n",
    "    \"Dona\":        \"Mrs\",\n",
    "    \"Lady\" :       \"Mrs\",\n",
    "    \"Master\" :     \"Master\", \n",
    "    \"Ms\":          \"Miss\",\n",
    "    \"Mlle\":        \"Miss\",\n",
    "    \"Miss\" :       \"Miss\",\n",
    "}\n",
    "\n",
    "def create_features(data):\n",
    "\n",
    "    data['Deck'] = data['Cabin'].apply(get_deck)\n",
    "    data['Age Group'] = data['Age'].apply(checkChild)\n",
    "    data['Alone'] = data[['SibSp','Parch']].apply(is_alone,axis=1)\n",
    "    data['Prefix'] = data['Name'].apply(get_prefix)\n",
    "    \n",
    "    data['Prefix'] = data['Prefix'].map(prefix_dict)\n",
    "    return data\n",
    "\n",
    "train_data = create_features(train_data)\n",
    "test = create_features(test)\n",
    "\n",
    "prefix_group = train_data.groupby(by='Prefix').mean()\n",
    "pclass_group = train_data.groupby(by='Pclass').mean()"
   ]
  },
  {
   "cell_type": "code",
   "execution_count": 7,
   "id": "0f1dbc40",
   "metadata": {},
   "outputs": [],
   "source": [
    "def get_null_fares(passenger):\n",
    "    if(pd.isnull(passenger['Fare'])):\n",
    "        return pclass_group.loc[passenger['Pclass']]['Fare']\n",
    "    return passenger['Fare']\n",
    "\n",
    "def get_null_ages(passenger):\n",
    "    if(pd.isnull(passenger['Age'])):\n",
    "        return prefix_group.loc[passenger['Prefix']]['Age']\n",
    "    return passenger['Age']\n",
    "\n",
    "def clean_data(data): #removing any null values\n",
    "    \n",
    "    data['Embarked'].fillna('S',inplace=True) #fill empty embarkments with most common port (southampton)\n",
    "    data['Deck'].fillna('U',inplace=True) #U stands for unknown value\n",
    "    \n",
    "    data['Age'] = data[['Age','Prefix']].apply(get_null_ages,axis=1)\n",
    "    data['Fare'] = data[['Fare','Pclass']].apply(get_null_fares,axis=1)\n",
    "                                                  \n",
    "    #feature vectorization\n",
    "    data['Deck'] = data['Deck'].map(deck_dict)\n",
    "    data['Sex'] = data['Sex'].map(sex_dict)\n",
    "    data['Embarked'] = data['Embarked'].map(embark_dict)\n",
    "    data['Age Group'] = data['Age Group'].map(age_dict)\n",
    "    \n",
    "    #removing unnecessary columns\n",
    "    data.drop(['Cabin','PassengerId','Name','Ticket','Age','Prefix'],axis=1,inplace=True)\n",
    "    return data\n",
    "\n",
    "train_data = clean_data(train_data)\n",
    "test = clean_data(test)"
   ]
  },
  {
   "cell_type": "code",
   "execution_count": 8,
   "id": "5df92adf",
   "metadata": {},
   "outputs": [
    {
     "name": "stdout",
     "output_type": "stream",
     "text": [
      "2    646\n",
      "0    168\n",
      "1     77\n",
      "Name: Embarked, dtype: int64 2    270\n",
      "0    102\n",
      "1     46\n",
      "Name: Embarked, dtype: int64\n"
     ]
    }
   ],
   "source": [
    "print(train_data['Embarked'].value_counts(),test['Embarked'].value_counts())"
   ]
  },
  {
   "cell_type": "code",
   "execution_count": 9,
   "id": "3dee0d12",
   "metadata": {},
   "outputs": [
    {
     "data": {
      "text/plain": [
       "<seaborn.axisgrid.FacetGrid at 0x1e3dd5f0d00>"
      ]
     },
     "execution_count": 9,
     "metadata": {},
     "output_type": "execute_result"
    },
    {
     "data": {
      "image/png": "[encoded data removed]",
      "text/plain": [
       "<Figure size 402.375x360 with 1 Axes>"
      ]
     },
     "metadata": {
      "needs_background": "light"
     },
     "output_type": "display_data"
    }
   ],
   "source": [
    "#More data visualization\n",
    "sns.catplot(x='Age Group',data=train_data, kind='count',hue='Pclass')"
   ]
  },
  {
   "cell_type": "code",
   "execution_count": 10,
   "id": "be47ae4f",
   "metadata": {},
   "outputs": [
    {
     "data": {
      "text/plain": [
       "<seaborn.axisgrid.FacetGrid at 0x1e3e3113460>"
      ]
     },
     "execution_count": 10,
     "metadata": {},
     "output_type": "execute_result"
    },
    {
     "data": {
      "image/png": "[encoded data removed]",
      "text/plain": [
       "<Figure size 402.375x360 with 1 Axes>"
      ]
     },
     "metadata": {
      "needs_background": "light"
     },
     "output_type": "display_data"
    }
   ],
   "source": [
    "sns.catplot(x='Embarked',kind='count',data=train,hue='Pclass')\n",
    "#large amount of passengers came from Southampton"
   ]
  },
  {
   "cell_type": "code",
   "execution_count": 11,
   "id": "d63ae09a",
   "metadata": {},
   "outputs": [
    {
     "data": {
      "image/png": "[encoded data removed]",
      "text/plain": [
       "<Figure size 1080x864 with 2 Axes>"
      ]
     },
     "metadata": {
      "needs_background": "light"
     },
     "output_type": "display_data"
    }
   ],
   "source": [
    "sns.heatmap(train_data.corr(),annot=True,fmt='.2f')\n",
    "plt.gcf().set_size_inches(15,12)"
   ]
  },
  {
   "cell_type": "code",
   "execution_count": 12,
   "id": "198d16f4",
   "metadata": {},
   "outputs": [],
   "source": [
    "#normalizing the data\n",
    "from sklearn.preprocessing import MinMaxScaler\n",
    "scaler = MinMaxScaler()\n",
    "train_data = scaler.fit_transform(train_data)\n",
    "test = scaler.fit_transform(test)"
   ]
  },
  {
   "cell_type": "code",
   "execution_count": 13,
   "id": "be7926c1",
   "metadata": {},
   "outputs": [
    {
     "name": "stdout",
     "output_type": "stream",
     "text": [
      "0.7757847533632287\n"
     ]
    }
   ],
   "source": [
    "from sklearn.model_selection import train_test_split, RandomizedSearchCV\n",
    "\n",
    "classifier_rf = RandomForestClassifier()\n",
    "\n",
    "#testing our model by first splitting the training set\n",
    "x_train, x_test, y_train, y_test = train_test_split(train_data,target)\n",
    "classifier_rf.fit(x_train,y_train)\n",
    "predictions = classifier_rf.predict(x_test)\n",
    "\n",
    "from sklearn import metrics\n",
    "print(metrics.accuracy_score(predictions,y_test))"
   ]
  },
  {
   "cell_type": "code",
   "execution_count": 14,
   "id": "03700f00",
   "metadata": {},
   "outputs": [
    {
     "data": {
      "text/plain": [
       "array([[114,  33],\n",
       "       [ 17,  59]], dtype=int64)"
      ]
     },
     "execution_count": 14,
     "metadata": {},
     "output_type": "execute_result"
    }
   ],
   "source": [
    "#Confusion matrix\n",
    "metrics.confusion_matrix(predictions,y_test)"
   ]
  },
  {
   "cell_type": "code",
   "execution_count": 15,
   "id": "73e03e14",
   "metadata": {},
   "outputs": [
    {
     "name": "stdout",
     "output_type": "stream",
     "text": [
      "{'bootstrap': True, 'ccp_alpha': 0.0, 'class_weight': None, 'criterion': 'gini', 'max_depth': None, 'max_features': 'auto', 'max_leaf_nodes': None, 'max_samples': None, 'min_impurity_decrease': 0.0, 'min_samples_leaf': 1, 'min_samples_split': 2, 'min_weight_fraction_leaf': 0.0, 'n_estimators': 100, 'n_jobs': None, 'oob_score': False, 'random_state': None, 'verbose': 0, 'warm_start': False}\n"
     ]
    }
   ],
   "source": [
    "#default parameters\n",
    "print(classifier_rf.get_params())"
   ]
  },
  {
   "cell_type": "code",
   "execution_count": 16,
   "id": "904cb834",
   "metadata": {},
   "outputs": [],
   "source": [
    "#Hyperparameter tuning\n",
    "\n",
    "n_estimators = [x for x in range(50,300,20)]\n",
    "max_depth = [x for x in range(10,110,10)]\n",
    "max_depth.append(None)\n",
    "min_samples_split = [2,5,10]\n",
    "min_samples_leaf = [1,2,4]\n",
    "bootstrap = [True, False]\n",
    "max_features = ['sqrt','log2',None]\n",
    "\n",
    "tuning_grid = {'n_estimators': n_estimators,\n",
    "               'max_depth': max_depth,\n",
    "               'min_samples_split': min_samples_split,\n",
    "               'min_samples_leaf': min_samples_leaf,\n",
    "               'max_features': max_features,\n",
    "               'bootstrap': bootstrap}"
   ]
  },
  {
   "cell_type": "code",
   "execution_count": 17,
   "id": "85cab606",
   "metadata": {},
   "outputs": [],
   "source": [
    "rand_rf = RandomizedSearchCV(estimator=classifier_rf,param_distributions=tuning_grid,n_iter=150,cv=10,n_jobs=-1,verbose=2)"
   ]
  },
  {
   "cell_type": "code",
   "execution_count": 18,
   "id": "87757045",
   "metadata": {},
   "outputs": [
    {
     "name": "stdout",
     "output_type": "stream",
     "text": [
      "Fitting 10 folds for each of 150 candidates, totalling 1500 fits\n"
     ]
    },
    {
     "data": {
      "text/plain": [
       "RandomizedSearchCV(cv=10, estimator=RandomForestClassifier(), n_iter=150,\n",
       "                   n_jobs=-1,\n",
       "                   param_distributions={'bootstrap': [True, False],\n",
       "                                        'max_depth': [10, 20, 30, 40, 50, 60,\n",
       "                                                      70, 80, 90, 100, None],\n",
       "                                        'max_features': ['sqrt', 'log2', None],\n",
       "                                        'min_samples_leaf': [1, 2, 4],\n",
       "                                        'min_samples_split': [2, 5, 10],\n",
       "                                        'n_estimators': [50, 70, 90, 110, 130,\n",
       "                                                         150, 170, 190, 210,\n",
       "                                                         230, 250, 270, 290]},\n",
       "                   verbose=2)"
      ]
     },
     "execution_count": 18,
     "metadata": {},
     "output_type": "execute_result"
    }
   ],
   "source": [
    "rand_rf.fit(x_train,y_train)"
   ]
  },
  {
   "cell_type": "code",
   "execution_count": 19,
   "id": "41929de0",
   "metadata": {},
   "outputs": [
    {
     "data": {
      "text/plain": [
       "{'n_estimators': 170,\n",
       " 'min_samples_split': 10,\n",
       " 'min_samples_leaf': 2,\n",
       " 'max_features': 'log2',\n",
       " 'max_depth': 80,\n",
       " 'bootstrap': False}"
      ]
     },
     "execution_count": 19,
     "metadata": {},
     "output_type": "execute_result"
    }
   ],
   "source": [
    "rand_rf.best_params_"
   ]
  },
  {
   "cell_type": "code",
   "execution_count": 20,
   "id": "34a40730",
   "metadata": {},
   "outputs": [
    {
     "name": "stdout",
     "output_type": "stream",
     "text": [
      "Model Performance\n",
      "Average Error: 0.2197 degrees.\n",
      "Accuracy = 0.78%.\n"
     ]
    },
    {
     "data": {
      "text/plain": [
       "78.02690582959642"
      ]
     },
     "execution_count": 20,
     "metadata": {},
     "output_type": "execute_result"
    }
   ],
   "source": [
    "def evaluate(model, test_features, test_labels):\n",
    "    predictions = model.predict(test_features)\n",
    "    errors = abs(predictions - test_labels)\n",
    "    accuracy = 100 * metrics.accuracy_score(predictions,test_labels)\n",
    "    \n",
    "    print('Model Performance')\n",
    "    print('Average Error: {:0.4f} degrees.'.format(np.mean(errors)))\n",
    "    print('Accuracy = {:0.2f}%.'.format(metrics.accuracy_score(predictions,test_labels)))\n",
    "    \n",
    "    return accuracy\n",
    "\n",
    "#Testing best parameters against base parameters\n",
    "base_param = RandomForestClassifier()\n",
    "base_param.fit(x_train,y_train)\n",
    "evaluate(base_param, x_test, y_test)"
   ]
  },
  {
   "cell_type": "code",
   "execution_count": 21,
   "id": "07ceeec5",
   "metadata": {},
   "outputs": [
    {
     "name": "stdout",
     "output_type": "stream",
     "text": [
      "Model Performance\n",
      "Average Error: 0.2063 degrees.\n",
      "Accuracy = 0.79%.\n"
     ]
    },
    {
     "data": {
      "text/plain": [
       "79.37219730941703"
      ]
     },
     "execution_count": 21,
     "metadata": {},
     "output_type": "execute_result"
    }
   ],
   "source": [
    "#Best parameters\n",
    "best_param = rand_rf.best_estimator_\n",
    "evaluate(best_param, x_test, y_test)"
   ]
  },
  {
   "cell_type": "code",
   "execution_count": 22,
   "id": "d93dd22a",
   "metadata": {},
   "outputs": [
    {
     "name": "stdout",
     "output_type": "stream",
     "text": [
      "{'n_estimators': [110, 130, 150, 190, 210, 230], 'max_depth': [70, 75, 85, 90], 'min_samples_split': [2, 5], 'min_samples_leaf': [2, 4], 'max_features': [None], 'bootstrap': [True]}\n"
     ]
    }
   ],
   "source": [
    "#Further tuning using GridSearchCV\n",
    "from sklearn.model_selection import GridSearchCV\n",
    "\n",
    "tuning_grid_2 = {'n_estimators': [rand_rf.best_params_['n_estimators'] + x for x in range(-60,61,20) if x != 0],\n",
    "               'max_depth': [rand_rf.best_params_['max_depth'] + x for x in range(-10,11,5) if x != 0],\n",
    "               'min_samples_split': [2,5],\n",
    "               'min_samples_leaf': [2,4],\n",
    "               'max_features': [None],\n",
    "               'bootstrap': [True]}\n",
    "\n",
    "print(tuning_grid_2)\n",
    "\n",
    "tmp_classifier = RandomForestClassifier()\n",
    "gridsearch_rf = GridSearchCV(estimator=tmp_classifier,param_grid=tuning_grid_2,cv=10,n_jobs=-1,verbose=2)"
   ]
  },
  {
   "cell_type": "code",
   "execution_count": 23,
   "id": "9232b43d",
   "metadata": {},
   "outputs": [
    {
     "name": "stdout",
     "output_type": "stream",
     "text": [
      "Fitting 10 folds for each of 96 candidates, totalling 960 fits\n"
     ]
    },
    {
     "data": {
      "text/plain": [
       "GridSearchCV(cv=10, estimator=RandomForestClassifier(), n_jobs=-1,\n",
       "             param_grid={'bootstrap': [True], 'max_depth': [70, 75, 85, 90],\n",
       "                         'max_features': [None], 'min_samples_leaf': [2, 4],\n",
       "                         'min_samples_split': [2, 5],\n",
       "                         'n_estimators': [110, 130, 150, 190, 210, 230]},\n",
       "             verbose=2)"
      ]
     },
     "execution_count": 23,
     "metadata": {},
     "output_type": "execute_result"
    }
   ],
   "source": [
    "gridsearch_rf.fit(x_train,y_train)"
   ]
  },
  {
   "cell_type": "code",
   "execution_count": 24,
   "id": "40efd2e7",
   "metadata": {},
   "outputs": [
    {
     "name": "stdout",
     "output_type": "stream",
     "text": [
      "Model Performance\n",
      "Average Error: 0.2063 degrees.\n",
      "Accuracy = 0.79%.\n"
     ]
    },
    {
     "data": {
      "text/plain": [
       "79.37219730941703"
      ]
     },
     "execution_count": 24,
     "metadata": {},
     "output_type": "execute_result"
    }
   ],
   "source": [
    "new_best_param = gridsearch_rf.best_estimator_\n",
    "\n",
    "#compare with previous best, which was created using randomizedsearch\n",
    "evaluate(best_param, x_test, y_test)"
   ]
  },
  {
   "cell_type": "code",
   "execution_count": 25,
   "id": "f370164a",
   "metadata": {},
   "outputs": [
    {
     "name": "stdout",
     "output_type": "stream",
     "text": [
      "Model Performance\n",
      "Average Error: 0.2018 degrees.\n",
      "Accuracy = 0.80%.\n"
     ]
    },
    {
     "data": {
      "text/plain": [
       "79.82062780269058"
      ]
     },
     "execution_count": 25,
     "metadata": {},
     "output_type": "execute_result"
    }
   ],
   "source": [
    "evaluate(new_best_param, x_test, y_test)"
   ]
  },
  {
   "cell_type": "code",
   "execution_count": 26,
   "id": "304ade2b",
   "metadata": {},
   "outputs": [],
   "source": [
    "#This function returns a dataset formatted to kaggle submission specifications\n",
    "def get_results(predictions):\n",
    "    return pd.DataFrame({'PassengerId':passenger_ids.values,'Survived':predictions})"
   ]
  },
  {
   "cell_type": "code",
   "execution_count": 27,
   "id": "380514f3",
   "metadata": {},
   "outputs": [],
   "source": [
    "#Test model on real test set\n",
    "new_best_param.fit(train_data,target)\n",
    "submit_pred = new_best_param.predict(test)"
   ]
  },
  {
   "cell_type": "code",
   "execution_count": 28,
   "id": "4d4a1604",
   "metadata": {},
   "outputs": [],
   "source": [
    "submission_df = get_results(submit_pred)\n",
    "submission_df.to_csv(\"results.csv\",index=False)"
   ]
  },
  {
   "cell_type": "code",
   "execution_count": null,
   "id": "64527643",
   "metadata": {},
   "outputs": [],
   "source": []
  },
  {
   "cell_type": "code",
   "execution_count": null,
   "id": "44c5bc7a",
   "metadata": {},
   "outputs": [],
   "source": []
  },
  {
   "cell_type": "code",
   "execution_count": null,
   "id": "f4fcaaac",
   "metadata": {},
   "outputs": [],
   "source": []
  }
 ],
 "metadata": {
  "kernelspec": {
   "display_name": "Python 3 (ipykernel)",
   "language": "python",
   "name": "python3"
  },
  "language_info": {
   "codemirror_mode": {
    "name": "ipython",
    "version": 3
   },
   "file_extension": ".py",
   "mimetype": "text/x-python",
   "name": "python",
   "nbconvert_exporter": "python",
   "pygments_lexer": "ipython3",
   "version": "3.9.12"
  }
 },
 "nbformat": 4,
 "nbformat_minor": 5
}
